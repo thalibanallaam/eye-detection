{
 "cells": [
  {
   "cell_type": "markdown",
   "id": "efd27584",
   "metadata": {},
   "source": [
    "# **EYE DETECTION**"
   ]
  },
  {
   "cell_type": "markdown",
   "id": "d2306dfa",
   "metadata": {},
   "source": [
    "# **i. Introduction**"
   ]
  },
  {
   "cell_type": "markdown",
   "id": "c3e18151",
   "metadata": {},
   "source": [
    "**Objective:** \n",
    "\n",
    "The goal is to create a machine learning model with the ability to accurately classify images of human eyes. The model checks whether the eyes are open or closed. This model can serve as a foundational component for real-life applications, such as drowsiness detection systems.\n",
    "\n",
    "**Data Overview:** \n",
    "\n",
    "The dataset used is generated using MRL and Closed Eyes in Wild (CEW) combined with a personal database from the uploader. The data consists of images showing opened and closed eyes that were taken under various conditions, including diverse lighting conditions, distance, and angle. The current version used is the 4th version which contains a total of 4000 images. The data is balanced between opened and closed eyes images with a total 2000 images for each case.\n",
    "\n",
    "**Dataset Link**: https://www.kaggle.com/datasets/prasadvpatil/mrl-dataset/data\n",
    "\n",
    "**Deployment Link**: https://huggingface.co/spaces/thalibanallaam/EyeDetection"
   ]
  },
  {
   "cell_type": "markdown",
   "id": "67599ae3",
   "metadata": {},
   "source": [
    "# **ii. Import Libraries**"
   ]
  },
  {
   "cell_type": "code",
   "execution_count": 36,
   "id": "7ed80230",
   "metadata": {},
   "outputs": [],
   "source": [
    "import numpy as np\n",
    "import cv2\n",
    "from tensorflow.keras.models import load_model\n",
    "import matplotlib.pyplot as plt\n",
    "\n",
    "import warnings\n",
    "warnings.filterwarnings('ignore')"
   ]
  },
  {
   "cell_type": "markdown",
   "id": "e648d103",
   "metadata": {},
   "source": [
    "# **iii. Load Files**"
   ]
  },
  {
   "cell_type": "code",
   "execution_count": 37,
   "id": "b95ca2ab",
   "metadata": {},
   "outputs": [],
   "source": [
    "model_path = \"model_new.keras\"\n",
    "model = load_model(model_path)"
   ]
  },
  {
   "cell_type": "markdown",
   "id": "f820c641",
   "metadata": {},
   "source": [
    "# **iv. New Data**"
   ]
  },
  {
   "cell_type": "code",
   "execution_count": 38,
   "id": "a1ccd186",
   "metadata": {},
   "outputs": [
    {
     "data": {
      "image/png": "[encoded data removed]",
      "text/plain": [
       "<Figure size 640x480 with 1 Axes>"
      ]
     },
     "metadata": {},
     "output_type": "display_data"
    }
   ],
   "source": [
    "# Preview image\n",
    "image_path = \"data\\Open_Eyes\\s0001_02336_0_0_1_0_0_01.png\" \n",
    "\n",
    "img = cv2.imread(image_path, cv2.IMREAD_GRAYSCALE)\n",
    "img = cv2.resize(img, (64, 64))\n",
    "img = np.expand_dims(img, axis=0)  # Batch dimension\n",
    "img = np.expand_dims(img, axis=-1)  # Channel dimension\n",
    "img = img / .255  # Normalize pixel values\n",
    "    \n",
    "\n",
    "# Display the image\n",
    "plt.imshow(img[0, :, :, 0], cmap='gray')\n",
    "plt.show()"
   ]
  },
  {
   "cell_type": "code",
   "execution_count": 39,
   "id": "cbba8d5e",
   "metadata": {},
   "outputs": [],
   "source": [
    "def predict_eye_state(image_path):\n",
    "    \n",
    "    img = cv2.imread(image_path, cv2.COLOR_BGR2GRAY)\n",
    "    img = cv2.resize(img, (64, 64))\n",
    "\n",
    "    img = np.expand_dims(img, axis=0)  # Batch dimension\n",
    "    img = np.expand_dims(img, axis=-1)  # Channel dimension\n",
    "\n",
    "    img = img / .255  # Normalize pixel values\n",
    "    \n",
    "    prediction = model.predict(img)\n",
    "    \n",
    "    print(\"Raw prediction output:\", prediction)\n",
    "\n",
    "    if prediction > 0.5:\n",
    "        return 'Open Eyes'\n",
    "    else:\n",
    "        return 'Closed Eyes'"
   ]
  },
  {
   "cell_type": "markdown",
   "id": "cc29b35d",
   "metadata": {},
   "source": [
    "# **v. Prediction**"
   ]
  },
  {
   "cell_type": "code",
   "execution_count": 40,
   "id": "b6f75ec9",
   "metadata": {},
   "outputs": [
    {
     "name": "stdout",
     "output_type": "stream",
     "text": [
      "\u001b[1m1/1\u001b[0m \u001b[32m━━━━━━━━━━━━━━━━━━━━\u001b[0m\u001b[37m\u001b[0m \u001b[1m0s\u001b[0m 116ms/step\n",
      "Raw prediction output: [[0.9487107]]\n",
      "Predicted eye state: Open Eyes\n"
     ]
    }
   ],
   "source": [
    "image_path = \"data\\Open_Eyes\\s0001_02336_0_0_1_0_0_01.png\" \n",
    "\n",
    "predicted_state = predict_eye_state(image_path)\n",
    "print(f\"Predicted eye state: {predicted_state}\")"
   ]
  }
 ],
 "metadata": {
  "kernelspec": {
   "display_name": "base",
   "language": "python",
   "name": "python3"
  },
  "language_info": {
   "codemirror_mode": {
    "name": "ipython",
    "version": 3
   },
   "file_extension": ".py",
   "mimetype": "text/x-python",
   "name": "python",
   "nbconvert_exporter": "python",
   "pygments_lexer": "ipython3",
   "version": "3.12.7"
  }
 },
 "nbformat": 4,
 "nbformat_minor": 5
}
